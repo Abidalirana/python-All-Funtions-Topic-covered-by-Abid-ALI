{
 "cells": [
  {
   "cell_type": "code",
   "execution_count": 16,
   "id": "b16fa261-874f-48de-957e-363bea34e444",
   "metadata": {},
   "outputs": [],
   "source": [
    "#function in python what is ??\n",
    "# to repeat a set of instructions multiple times.\n",
    "#2 loops in python for and while loops ..\n",
    "#what is for loops??\n",
    "#when a task needs to be a repeated foR a specific numner of times called for loops. or when you know number of repeatition\n",
    "#thet save time and improve code conciseness .."
   ]
  },
  {
   "cell_type": "code",
   "execution_count": 17,
   "id": "5dcfe223-765f-4a5b-882d-25124d91beb8",
   "metadata": {},
   "outputs": [],
   "source": [
    "import pandas as pd         "
   ]
  },
  {
   "cell_type": "markdown",
   "id": "6662e5c1-4c74-429d-8495-1e3c2108ccf2",
   "metadata": {},
   "source": [
    "<h1 style=\"color:blue;\"> ((1)) BUILT-IN FUNCTION FOR \"FOR LOOPS\"</h1>\n"
   ]
  },
  {
   "cell_type": "markdown",
   "id": "eafa055b-9233-45c8-b171-5fb661f35bce",
   "metadata": {},
   "source": [
    "<h1 style=\"color:red\">abid ali tutorial about functions</h1>"
   ]
  },
  {
   "cell_type": "code",
   "execution_count": 41,
   "id": "b1d01102-8e61-4b88-8b3a-dbfb24a7df3c",
   "metadata": {},
   "outputs": [
    {
     "name": "stdout",
     "output_type": "stream",
     "text": [
      "hello world\n",
      "hello world\n"
     ]
    }
   ],
   "source": [
    "for i in range (2):              #1   #line of code that come after identation  will execute inside for loops.  \n",
    "    print(\"hello world\")\n"
   ]
  },
  {
   "cell_type": "code",
   "execution_count": 47,
   "id": "bc734271-cf21-4c7e-9cbf-178e24941402",
   "metadata": {},
   "outputs": [
    {
     "name": "stdout",
     "output_type": "stream",
     "text": [
      "pakistan\n",
      "abid ali\n",
      "pakistan\n",
      "abid ali\n"
     ]
    }
   ],
   "source": [
    "for any_numer in range(2):                #2  #print the string(pakistan or abid ali) specific number of times \n",
    "    print(\"pakistan\")                   #you can put anything instead of i a ehat you like you give name ..\n",
    "    print(\"abid ali\")"
   ]
  },
  {
   "cell_type": "code",
   "execution_count": 23,
   "id": "deddf540-47c9-4dc8-8859-a82b9555afb7",
   "metadata": {},
   "outputs": [
    {
     "name": "stdout",
     "output_type": "stream",
     "text": [
      "apple\n",
      "banana\n",
      "cherry\n"
     ]
    }
   ],
   "source": [
    "fruits=[\"apple\",\"banana\",\"cherry\"]\n",
    "for a in fruits:                             #3   # i want to choose a for variable\n",
    "    print(a)"
   ]
  },
  {
   "cell_type": "code",
   "execution_count": 24,
   "id": "9e61f044-289a-459e-b33f-27b35a1fd850",
   "metadata": {},
   "outputs": [
    {
     "name": "stdout",
     "output_type": "stream",
     "text": [
      "['apple', 'banana', 'cherry']\n"
     ]
    }
   ],
   "source": [
    "print(fruits)                             #4\n"
   ]
  },
  {
   "cell_type": "code",
   "execution_count": 25,
   "id": "0c8d44dd-12e6-47f9-bd2e-1e1372e40e4c",
   "metadata": {},
   "outputs": [
    {
     "name": "stdout",
     "output_type": "stream",
     "text": [
      "apple\n",
      "banana\n",
      "cherry\n"
     ]
    }
   ],
   "source": [
    "fruits=[\"apple\",\"banana\",\"cherry\"]            #5\n",
    "for item in fruits:                            #collection in item for iterate is items\n",
    "                                              \n",
    "    print(item)"
   ]
  },
  {
   "cell_type": "code",
   "execution_count": 28,
   "id": "82fca8cc-0eb3-4458-9f41-93476e20e669",
   "metadata": {},
   "outputs": [
    {
     "name": "stdout",
     "output_type": "stream",
     "text": [
      "10\n",
      "20\n",
      "30\n",
      "40\n",
      "50\n"
     ]
    }
   ],
   "source": [
    "my_list=[10,20,30,40,50]               #6replace it any tuples, list etc \n",
    "for number in my_list:\n",
    "    print(number)"
   ]
  },
  {
   "cell_type": "code",
   "execution_count": 26,
   "id": "15910a78-e928-4fe7-a1ab-a1b2ac41515b",
   "metadata": {},
   "outputs": [
    {
     "name": "stdout",
     "output_type": "stream",
     "text": [
      "h\n",
      "e\n",
      "l\n",
      "l\n",
      "o\n",
      " \n",
      "w\n",
      "o\n",
      "r\n",
      "l\n",
      "d\n"
     ]
    }
   ],
   "source": [
    "country=\"hello world\"                   #7for cheking characters\n",
    "for i in country:\n",
    "    print(i)"
   ]
  },
  {
   "cell_type": "code",
   "execution_count": 30,
   "id": "cf197792-029e-470d-910c-6f73511fcfa4",
   "metadata": {},
   "outputs": [
    {
     "name": "stdout",
     "output_type": "stream",
     "text": [
      "b\n",
      "a\n",
      "n\n",
      "a\n",
      "n\n",
      "a\n"
     ]
    }
   ],
   "source": [
    "for a in \"banana\":                       #8\n",
    "    print(a)\n"
   ]
  },
  {
   "cell_type": "code",
   "execution_count": 33,
   "id": "ee36bbe2-3f8b-4042-b555-058e081969ed",
   "metadata": {},
   "outputs": [
    {
     "name": "stdout",
     "output_type": "stream",
     "text": [
      "a\n",
      "b\n",
      "i\n",
      "d\n"
     ]
    }
   ],
   "source": [
    "for  alphabetics in \"abid\":                #9\n",
    "    print(alphabetics )"
   ]
  },
  {
   "cell_type": "code",
   "execution_count": 34,
   "id": "a2c7884d-228d-4226-827f-7e382c3f4654",
   "metadata": {},
   "outputs": [
    {
     "name": "stdout",
     "output_type": "stream",
     "text": [
      "0\n",
      "1\n",
      "2\n",
      "3\n",
      "4\n"
     ]
    }
   ],
   "source": [
    "for abid in range(5):                      #10\n",
    "    print(abid)"
   ]
  },
  {
   "cell_type": "code",
   "execution_count": 35,
   "id": "fbe5a923-a2c3-40c7-b22c-df267de4c4fc",
   "metadata": {},
   "outputs": [
    {
     "name": "stdout",
     "output_type": "stream",
     "text": [
      "1\n",
      "2\n",
      "3\n",
      "4\n"
     ]
    }
   ],
   "source": [
    "for abid in range(1,5):   # custom numbers range              #11\n",
    "    print(abid)"
   ]
  },
  {
   "cell_type": "code",
   "execution_count": 40,
   "id": "af4d82bd-d724-4a64-95b6-924442cba643",
   "metadata": {},
   "outputs": [
    {
     "name": "stdout",
     "output_type": "stream",
     "text": [
      "0 10\n",
      "1 20\n",
      "2 30\n",
      "3 40\n",
      "4 50\n"
     ]
    }
   ],
   "source": [
    "my_list=[10,20,30,40,50]            #12want to print list items and alsoindexing of numbers \n",
    "for a in range(len(my_list)):    #one function runs in onother.. \n",
    "    print(a,my_list[a])"
   ]
  },
  {
   "cell_type": "code",
   "execution_count": 51,
   "id": "628fc3a8-eace-4523-9ab6-3785380865f6",
   "metadata": {},
   "outputs": [
    {
     "name": "stdout",
     "output_type": "stream",
     "text": [
      "5\n"
     ]
    }
   ],
   "source": [
    "my_list=[10,20,30,40,50]\n",
    "print(len(my_list))                  #13len will count all element inside of list "
   ]
  },
  {
   "cell_type": "markdown",
   "id": "3971edd2-a464-46d5-b980-6c5bfe26b977",
   "metadata": {},
   "source": [
    "#you can create your own functions in python             #user define function for loops...              \n",
    "#user defined function \n",
    "#code should be reuseabled \n",
    "#if we call functions we can work on it \n",
    " #syntax \n",
    "#def define function():         #then python will expect name from your side what u will give name to funtions \n",
    "   #print(\"hello from function\")\n",
    "   \n"
   ]
  },
  {
   "cell_type": "code",
   "execution_count": 52,
   "id": "5d90ef8f-6197-4c36-8f2a-9418369cf027",
   "metadata": {},
   "outputs": [
    {
     "name": "stdout",
     "output_type": "stream",
     "text": [
      "ford\n",
      "mustang\n",
      "20\n"
     ]
    }
   ],
   "source": [
    "my_dic={\"brand\":\"ford\",\"model\":\"mustang\",\"year\":20}           #14\n",
    "for abid in my_dic.values():\n",
    "    print(abid)\n",
    "\n"
   ]
  },
  {
   "cell_type": "markdown",
   "id": "55c9d332-e205-4eae-9b32-2e381b3f857c",
   "metadata": {},
   "source": [
    "# <h1 style=\"color:green\"> ((2)) USER DEFINED FUNCTION FOR FOR LOOPS</h1>"
   ]
  },
  {
   "cell_type": "code",
   "execution_count": 64,
   "id": "aa10830c-c1fe-4d7c-bf7d-5b1a8a86738e",
   "metadata": {},
   "outputs": [],
   "source": [
    "def my_function():                                    #15\n",
    "   print(\"hello abid ali rana\" )\n",
    "\n"
   ]
  },
  {
   "cell_type": "code",
   "execution_count": 65,
   "id": "c24b3975-2d9a-44b3-93f0-9a449548025e",
   "metadata": {},
   "outputs": [
    {
     "name": "stdout",
     "output_type": "stream",
     "text": [
      "hello abid ali rana\n"
     ]
    }
   ],
   "source": [
    "def my_function():                               #16\n",
    "   print(\"hello abid ali rana\" )\n",
    "my_function()"
   ]
  },
  {
   "cell_type": "code",
   "execution_count": 82,
   "id": "2b2191b3-7a21-4e4d-8b82-2605f4e4e3eb",
   "metadata": {},
   "outputs": [
    {
     "name": "stdout",
     "output_type": "stream",
     "text": [
      "The sum is 5\n"
     ]
    }
   ],
   "source": [
    "def add_numbers(a, b):  # Use variable names for parameters            #17\n",
    "    sum= a + b      # Perform the addition\n",
    "    return result       # Return the result\n",
    "\n",
    "sum = add_numbers(2, 3)         #parameter or place holder\n",
    "print(\"The sum is\",sum)\n"
   ]
  },
  {
   "cell_type": "code",
   "execution_count": 88,
   "id": "8329fcdf-20ff-4bd0-b547-218276f3fa19",
   "metadata": {},
   "outputs": [
    {
     "name": "stdout",
     "output_type": "stream",
     "text": [
      "apple\n",
      "banana\n",
      "cherry\n"
     ]
    }
   ],
   "source": [
    "def abid(food):          #food                                       #18\n",
    "    for abid in food:\n",
    "        print(abid)\n",
    "food=[\"apple\",\"banana\",\"cherry\"]\n",
    "abid(food)"
   ]
  },
  {
   "cell_type": "code",
   "execution_count": 85,
   "id": "8a5a7d5d-d7fe-475c-b9e2-dc5206f4fbc3",
   "metadata": {},
   "outputs": [
    {
     "name": "stdout",
     "output_type": "stream",
     "text": [
      "apple\n",
      "banana\n",
      "cherry\n"
     ]
    }
   ],
   "source": [
    "def abid(food):                                             \n",
    "    for item in food:                   #19 Optional: avoid using the same name for function and loop variable\n",
    "        print(item)\n",
    "\n",
    "food = [\"apple\", \"banana\", \"cherry\"]\n",
    "abid(food)  # ✅ Now passing the list correctly\n"
   ]
  },
  {
   "cell_type": "code",
   "execution_count": 94,
   "id": "20fc0617-71b0-4366-aa80-22012177908c",
   "metadata": {},
   "outputs": [
    {
     "name": "stdout",
     "output_type": "stream",
     "text": [
      "15\n"
     ]
    }
   ],
   "source": [
    "def abid_ali(abid):               #20abid is parameter or empty place holder where you can later assign value by argument..\n",
    "    return 5 * abid\n",
    "print(abid_ali(3))"
   ]
  },
  {
   "cell_type": "code",
   "execution_count": 100,
   "id": "08ac41ca-44f1-482f-a927-60ecf6e0798c",
   "metadata": {},
   "outputs": [
    {
     "name": "stdout",
     "output_type": "stream",
     "text": [
      "5\n"
     ]
    }
   ],
   "source": [
    "def ali(a,b):                            #21\n",
    "    sum=a + b\n",
    "    print(sum)\n",
    "ali(2,3)"
   ]
  },
  {
   "cell_type": "code",
   "execution_count": 101,
   "id": "94b67630-97c2-4222-95ab-3baca5cda41e",
   "metadata": {},
   "outputs": [
    {
     "name": "stdout",
     "output_type": "stream",
     "text": [
      "5\n"
     ]
    }
   ],
   "source": [
    "def ali(a, b):                          #22\n",
    "    sum = a + b\n",
    "    print(sum)\n",
    "\n",
    "ali(2, 3)\n"
   ]
  },
  {
   "cell_type": "code",
   "execution_count": null,
   "id": "ca2b1944-afbf-430b-8217-eb8e3c502004",
   "metadata": {},
   "outputs": [],
   "source": [
    "def greet_man(name=\"abid\"):              #23\n",
    "    greet_man\n",
    "    "
   ]
  },
  {
   "cell_type": "markdown",
   "id": "199c4bd3-f359-4c5e-a2e6-c00f53fbe628",
   "metadata": {},
   "source": [
    "# ((3)) for LOOPS detail understanding         # 24enumerate in for loops            \n"
   ]
  },
  {
   "cell_type": "code",
   "execution_count": 2,
   "id": "8a1ca735-44fa-491d-8870-316a63a8d471",
   "metadata": {},
   "outputs": [
    {
     "name": "stdout",
     "output_type": "stream",
     "text": [
      "(0): apple\n",
      "(1): banana\n",
      "(2): cherry\n"
     ]
    }
   ],
   "source": [
    "fruits = [\"apple\", \"banana\", \"cherry\"]\n",
    "\n",
    "for index, fruit in enumerate(fruits):          #25 enumerate returns index and items\n",
    "    print(f\"({index}): {fruit}\")\n"
   ]
  },
  {
   "cell_type": "markdown",
   "id": "34bc44e3-cf9e-4e92-bbeb-2781221526d1",
   "metadata": {},
   "source": [
    "# <h1 style=\"color:red\"> manual finiding index and items</h1>"
   ]
  },
  {
   "cell_type": "code",
   "execution_count": 4,
   "id": "90595378-f790-4b41-af1d-f56a322037aa",
   "metadata": {},
   "outputs": [
    {
     "name": "stdout",
     "output_type": "stream",
     "text": [
      "index[index):[fruit]\n",
      "index[index):[fruit]\n",
      "index[index):[fruit]\n"
     ]
    }
   ],
   "source": [
    "fruits = [\"apple\", \"banana\", \"cherry\"]\n",
    "index=0\n",
    "for fruit in fruits:\n",
    "    print(f\"index[index):[fruit]\")\n",
    "    index +=1"
   ]
  },
  {
   "cell_type": "code",
   "execution_count": 5,
   "id": "f4f0b8ea-8903-48ab-a71c-2a4d1848c00b",
   "metadata": {},
   "outputs": [
    {
     "name": "stdout",
     "output_type": "stream",
     "text": [
      "index[0]: [apple]\n",
      "index[1]: [banana]\n",
      "index[2]: [cherry]\n"
     ]
    }
   ],
   "source": [
    "fruits = [\"apple\", \"banana\", \"cherry\"]\n",
    "index = 0\n",
    "for fruit in fruits:\n",
    "    print(f\"index[{index}]: [{fruit}]\")\n",
    "    index += 1\n"
   ]
  },
  {
   "cell_type": "markdown",
   "id": "cf0da7cf-1333-4583-b067-0430d8c01580",
   "metadata": {},
   "source": [
    "# ((4)) enumerate built in function make work easy so used it "
   ]
  },
  {
   "cell_type": "markdown",
   "id": "7f30690c-5f34-458b-b091-144174492f0c",
   "metadata": {},
   "source": [
    "# used \"for loops on dictionary\"  "
   ]
  },
  {
   "cell_type": "code",
   "execution_count": 10,
   "id": "78ef6177-4ea0-4fae-97ed-512d5f94590c",
   "metadata": {},
   "outputs": [
    {
     "name": "stdout",
     "output_type": "stream",
     "text": [
      "iterating over key and values:\n",
      "name:abid\n",
      "age:33\n",
      "city:lahore\n"
     ]
    }
   ],
   "source": [
    "person={'name':'abid','age':33,'city':'lahore'}\n",
    "print(\"iterating over key and values:\")                  #key and value\n",
    "for key in person:\n",
    "    print(f\"{key}:{person[key]}\")"
   ]
  },
  {
   "cell_type": "code",
   "execution_count": 13,
   "id": "88b6df4c-3501-469d-8a5a-c6170274a818",
   "metadata": {},
   "outputs": [
    {
     "name": "stdout",
     "output_type": "stream",
     "text": [
      "Iterating over keys and values:\n",
      "name: abid\n",
      "age: 33\n",
      "city: lahore\n"
     ]
    }
   ],
   "source": [
    "person = {'name': 'abid', 'age': 33, 'city': 'lahore'}\n",
    "\n",
    "print(\"Iterating over keys and values:\")\n",
    "for key, value in person.items():\n",
    "    print(f\"{key}: {value}\")\n"
   ]
  },
  {
   "cell_type": "markdown",
   "id": "53da8e2c-3f7c-4e6c-a5e8-64d1ba119b46",
   "metadata": {},
   "source": [
    "# <h1 style=\"color:red\"> ((5)) \"while LOOPS\"           </h1>\n",
    "# <h4 style=\"color:blue\"> while loops runs as long as specified conditon is true ..eg. when login try on website if enter correct password login if wrong again again coming try try    </h4>"
   ]
  },
  {
   "cell_type": "code",
   "execution_count": 14,
   "id": "bd72761d-d162-4dfb-ae55-d18ff0da035f",
   "metadata": {},
   "outputs": [
    {
     "name": "stdout",
     "output_type": "stream",
     "text": [
      "count is 0\n",
      "count is 1\n",
      "count is 2\n",
      "count is 3\n",
      "count is 4\n"
     ]
    }
   ],
   "source": [
    "count=0\n",
    "while count <5:\n",
    "    print(\"count is\",count)\n",
    "    count+=1\n",
    "    \n",
    "    "
   ]
  },
  {
   "cell_type": "code",
   "execution_count": 2,
   "id": "f1c55f15-7079-4706-9147-00fcb3405764",
   "metadata": {},
   "outputs": [],
   "source": [
    "#count=10\n",
    "#while count >5:\n",
    "  #  print(\"count is \",count)\n",
    "    #for continuos condition running..\n",
    "    \n",
    "    "
   ]
  },
  {
   "cell_type": "markdown",
   "id": "a4c01d95-912f-4dba-8872-079543400fff",
   "metadata": {},
   "source": [
    "# ((6)) loops control statements\n",
    "# <h1 style=\"color:red\">break statment </h1>\n",
    "# <h1 style=\"color:green\"> when we want break,no matter what ,loop will stop where we want to break,when oue our one condition meet then we use break \n"
   ]
  },
  {
   "cell_type": "code",
   "execution_count": 9,
   "id": "a8de23ab-b7f1-43ee-9739-c4722d62190b",
   "metadata": {},
   "outputs": [
    {
     "name": "stdout",
     "output_type": "stream",
     "text": [
      "current number: 0\n",
      "current number: 1\n",
      "current number: 2\n",
      "skipping 3\n",
      "current number: 4\n",
      "current number: 5\n",
      "current number: 6\n",
      "current number: 7\n",
      "breaking at 8\n"
     ]
    }
   ],
   "source": [
    "for abid in range(10):\n",
    "    if abid == 3:\n",
    "        print(\"skipping 3\")\n",
    "        continue\n",
    "    if abid == 8:\n",
    "        print(\"breaking at 8\")\n",
    "        break\n",
    "    print(\"current number:\", abid)\n",
    "else:\n",
    "    print(\"loop completed without break\")\n"
   ]
  },
  {
   "cell_type": "code",
   "execution_count": 17,
   "id": "78e28ad1-6316-4cb7-b95d-181c046406f2",
   "metadata": {},
   "outputs": [
    {
     "name": "stdout",
     "output_type": "stream",
     "text": [
      "0\n"
     ]
    }
   ],
   "source": [
    "for abid in range(5):\n",
    "    print(abid)\n",
    "    range(4)\n",
    "    break\n",
    "    print(\"current number 4\")"
   ]
  },
  {
   "cell_type": "code",
   "execution_count": 18,
   "id": "943e25f4-6aa3-4f7b-b3df-68f94bf17d19",
   "metadata": {},
   "outputs": [
    {
     "name": "stdout",
     "output_type": "stream",
     "text": [
      "current number 0\n",
      "current number 1\n",
      "current number 2\n",
      "current number 3\n",
      "current number 4\n"
     ]
    }
   ],
   "source": [
    "for abid in range(5):\n",
    "    print(\"current number\", abid)\n"
   ]
  },
  {
   "cell_type": "markdown",
   "id": "596a8cfd-66a2-4a41-872e-f1745b7f6da4",
   "metadata": {},
   "source": [
    "# ((7)) higher order functions"
   ]
  },
  {
   "cell_type": "code",
   "execution_count": 4,
   "id": "7a56a2da-852f-4958-b182-a1a734a9abda",
   "metadata": {},
   "outputs": [
    {
     "name": "stdout",
     "output_type": "stream",
     "text": [
      "[2, 4, 6, 8, 10]\n"
     ]
    }
   ],
   "source": [
    "#function in double a number\n",
    "def double(x):\n",
    "    return x * 2\n",
    "numbers=[1,2,3,4,5]\n",
    "doubled=list(map(double,numbers))               #map higher order function which list \n",
    "print(doubled)"
   ]
  },
  {
   "cell_type": "markdown",
   "id": "c3727f5e-c588-409f-bfb2-7e32e8008ad5",
   "metadata": {},
   "source": [
    "# ((8)) Filter Function\n",
    "### select elements from an iterable that meet a specified condition "
   ]
  },
  {
   "cell_type": "code",
   "execution_count": 5,
   "id": "e78b7104-1e6a-4a69-8d7e-324f41870a33",
   "metadata": {},
   "outputs": [],
   "source": [
    "#we give function to filter function and also iterable\n"
   ]
  },
  {
   "cell_type": "code",
   "execution_count": 11,
   "id": "1b18df0a-1100-49f3-b377-6157d1a655a5",
   "metadata": {},
   "outputs": [
    {
     "name": "stdout",
     "output_type": "stream",
     "text": [
      "[2, 4, 6]\n"
     ]
    }
   ],
   "source": [
    "def is_even(x):\n",
    "    return x % 2 == 0\n",
    "numbers =[1,2,3,4,5,6]\n",
    "evens=list(filter(is_even,numbers))\n",
    "print(evens)"
   ]
  },
  {
   "cell_type": "markdown",
   "id": "d30640b1-0d13-4436-aa98-9738a6ff26d8",
   "metadata": {},
   "source": [
    "# ((9)) reduce function \n",
    "### when we give one function on iterable function it return one values "
   ]
  },
  {
   "cell_type": "code",
   "execution_count": 13,
   "id": "44e98eae-db18-463b-91eb-ca6ccb8569fb",
   "metadata": {},
   "outputs": [
    {
     "name": "stdout",
     "output_type": "stream",
     "text": [
      "120\n"
     ]
    }
   ],
   "source": [
    "from functools import reduce\n",
    "def multiply (x,y):\n",
    "    return x * y\n",
    "numbers=[1,2,3,4,5]\n",
    "product=reduce(multiply,numbers)\n",
    "print(product)\n"
   ]
  },
  {
   "cell_type": "markdown",
   "id": "c7b9bfac-f375-4852-8a54-726f11710a74",
   "metadata": {},
   "source": [
    "# ((10)) zip function \n",
    "### to pair elements from multiple iterables into tuples.\n"
   ]
  },
  {
   "cell_type": "code",
   "execution_count": 15,
   "id": "eb6cd2e0-8091-430c-ba9f-74c16c786fed",
   "metadata": {},
   "outputs": [
    {
     "name": "stdout",
     "output_type": "stream",
     "text": [
      "[('abid', 33), ('taha', 6), ('aswad', 2)]\n"
     ]
    }
   ],
   "source": [
    "names=['abid','taha','aswad']\n",
    "ages=[33,6,2]\n",
    "paired=list(zip(names,ages))\n",
    "print(paired)"
   ]
  },
  {
   "cell_type": "markdown",
   "id": "10425eac-700a-4661-a72a-9082c269c1ae",
   "metadata": {},
   "source": [
    "# ((11)) enemurate function\n",
    "### in enemurte ehile change index and manipilate"
   ]
  },
  {
   "cell_type": "code",
   "execution_count": 19,
   "id": "44bf30fb-b1a1-4e9b-8ee3-f8a68a811df1",
   "metadata": {},
   "outputs": [
    {
     "name": "stdout",
     "output_type": "stream",
     "text": [
      "3:appla\n",
      "4:banana\n",
      "5:cherry\n"
     ]
    }
   ],
   "source": [
    "fruits=['appla','banana','cherry']\n",
    "for index, fruit in enumerate(fruits, start=3):\n",
    "    print(f\"{index}:{fruit}\")"
   ]
  },
  {
   "cell_type": "markdown",
   "id": "7a0f6fb7-a49d-4a80-9610-35a8bcd39654",
   "metadata": {},
   "source": [
    "## for pro tips where should u"
   ]
  },
  {
   "cell_type": "markdown",
   "id": "24416027-2543-4ac2-868d-723335a60c62",
   "metadata": {},
   "source": [
    "## map and filter functions used in simple work\n",
    "## reduce used when too much needed \n",
    "## zip used in multiple list \n",
    "## enemertae for index tracking used "
   ]
  },
  {
   "cell_type": "code",
   "execution_count": null,
   "id": "255ae51b-dbb7-489e-9873-dc5e714746da",
   "metadata": {},
   "outputs": [],
   "source": []
  }
 ],
 "metadata": {
  "kernelspec": {
   "display_name": "Python 3 (ipykernel)",
   "language": "python",
   "name": "python3"
  },
  "language_info": {
   "codemirror_mode": {
    "name": "ipython",
    "version": 3
   },
   "file_extension": ".py",
   "mimetype": "text/x-python",
   "name": "python",
   "nbconvert_exporter": "python",
   "pygments_lexer": "ipython3",
   "version": "3.13.2"
  }
 },
 "nbformat": 4,
 "nbformat_minor": 5
}
